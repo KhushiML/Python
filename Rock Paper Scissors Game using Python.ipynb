{
 "cells": [
  {
   "cell_type": "code",
   "execution_count": 1,
   "id": "8b79fc2b",
   "metadata": {},
   "outputs": [
    {
     "name": "stdout",
     "output_type": "stream",
     "text": [
      "Select Rock, Paper or Scissor :Paper\n",
      "Player 2 selected:  paper\n",
      "Tie\n"
     ]
    }
   ],
   "source": [
    "import random\n",
    "\n",
    "player1 = input(\"Select Rock, Paper or Scissor :\").lower()\n",
    "player2 = random.choice([\"Rock\",\"Paper\",\"Scissor\"]).lower()\n",
    "print(\"Player 2 selected: \", player2)\n",
    "\n",
    "if player1 == \"rock\" and player2 == \"paper\":\n",
    "    print(\"Player 2 Won\")\n",
    "elif player1 == \"paper\" and player2 == \"scissor\":\n",
    "    print(\"Player 2 Won\")\n",
    "elif player1 == \"scissor\" and player2 == \"rock\":\n",
    "    print(\"Player2 Won\")\n",
    "elif player1 == player2:\n",
    "    print(\"Tie\")\n",
    "else:\n",
    "    print(\"Player1 Won\")"
   ]
  },
  {
   "cell_type": "code",
   "execution_count": null,
   "id": "281b1e75",
   "metadata": {},
   "outputs": [],
   "source": []
  }
 ],
 "metadata": {
  "kernelspec": {
   "display_name": "Python 3 (ipykernel)",
   "language": "python",
   "name": "python3"
  },
  "language_info": {
   "codemirror_mode": {
    "name": "ipython",
    "version": 3
   },
   "file_extension": ".py",
   "mimetype": "text/x-python",
   "name": "python",
   "nbconvert_exporter": "python",
   "pygments_lexer": "ipython3",
   "version": "3.10.9"
  }
 },
 "nbformat": 4,
 "nbformat_minor": 5
}
