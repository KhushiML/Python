{
 "cells": [
  {
   "cell_type": "code",
   "execution_count": 1,
   "id": "625dc66e",
   "metadata": {},
   "outputs": [],
   "source": [
    "import emoji"
   ]
  },
  {
   "cell_type": "code",
   "execution_count": 2,
   "id": "79a01a4f",
   "metadata": {},
   "outputs": [
    {
     "name": "stdout",
     "output_type": "stream",
     "text": [
      "I love reading books📚\n"
     ]
    }
   ],
   "source": [
    "print(emoji.emojize(\"I love reading books:books:\"))"
   ]
  },
  {
   "cell_type": "code",
   "execution_count": 3,
   "id": "bdbdb170",
   "metadata": {},
   "outputs": [
    {
     "name": "stdout",
     "output_type": "stream",
     "text": [
      "Some people have a very sensitive heart❤️, please be kind with them.🌺\n"
     ]
    }
   ],
   "source": [
    "print(emoji.emojize(\"Some people have a very sensitive heart:red_heart:, please be kind with them.:hibiscus:\"))"
   ]
  },
  {
   "cell_type": "code",
   "execution_count": null,
   "id": "4a2afec9",
   "metadata": {},
   "outputs": [],
   "source": []
  }
 ],
 "metadata": {
  "kernelspec": {
   "display_name": "Python 3 (ipykernel)",
   "language": "python",
   "name": "python3"
  },
  "language_info": {
   "codemirror_mode": {
    "name": "ipython",
    "version": 3
   },
   "file_extension": ".py",
   "mimetype": "text/x-python",
   "name": "python",
   "nbconvert_exporter": "python",
   "pygments_lexer": "ipython3",
   "version": "3.10.9"
  }
 },
 "nbformat": 4,
 "nbformat_minor": 5
}
