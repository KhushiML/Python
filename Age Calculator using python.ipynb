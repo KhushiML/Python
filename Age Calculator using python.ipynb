{
 "cells": [
  {
   "cell_type": "code",
   "execution_count": 3,
   "id": "305eba9f",
   "metadata": {},
   "outputs": [],
   "source": [
    "def age_calculator(y, m, d):\n",
    "    import datetime\n",
    "    today_date = datetime.datetime.now().date()\n",
    "    dob = datetime.date(y, m, d)\n",
    "    age= int((today_date-dob).days/365.25)   \n",
    "    print(age)"
   ]
  },
  {
   "cell_type": "code",
   "execution_count": 5,
   "id": "b8f08378",
   "metadata": {},
   "outputs": [
    {
     "name": "stdout",
     "output_type": "stream",
     "text": [
      "29\n"
     ]
    }
   ],
   "source": [
    "age_calculator(1994,5,7)"
   ]
  },
  {
   "cell_type": "code",
   "execution_count": null,
   "id": "811e1154",
   "metadata": {},
   "outputs": [],
   "source": []
  }
 ],
 "metadata": {
  "kernelspec": {
   "display_name": "Python 3 (ipykernel)",
   "language": "python",
   "name": "python3"
  },
  "language_info": {
   "codemirror_mode": {
    "name": "ipython",
    "version": 3
   },
   "file_extension": ".py",
   "mimetype": "text/x-python",
   "name": "python",
   "nbconvert_exporter": "python",
   "pygments_lexer": "ipython3",
   "version": "3.10.9"
  }
 },
 "nbformat": 4,
 "nbformat_minor": 5
}
