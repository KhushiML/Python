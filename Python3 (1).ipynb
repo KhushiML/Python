{
 "cells": [
  {
   "cell_type": "markdown",
   "id": "88a36f53",
   "metadata": {},
   "source": [
    "# Write a Python factorial program without using if-else, for, and ternary operators."
   ]
  },
  {
   "cell_type": "code",
   "execution_count": 2,
   "id": "1701f0ed",
   "metadata": {},
   "outputs": [],
   "source": [
    "import math"
   ]
  },
  {
   "cell_type": "code",
   "execution_count": 3,
   "id": "4af0f9f3",
   "metadata": {},
   "outputs": [],
   "source": [
    "def factorial(num):\n",
    "    return (math.factorial(num))\n"
   ]
  },
  {
   "cell_type": "code",
   "execution_count": 4,
   "id": "13492441",
   "metadata": {},
   "outputs": [
    {
     "name": "stdout",
     "output_type": "stream",
     "text": [
      "Enter a number: 6\n",
      "The factorial of 6 is 720\n"
     ]
    }
   ],
   "source": [
    "num = int(input(\"Enter a number: \"))\n",
    "print(\"The factorial of\",num,\"is\",factorial(num))"
   ]
  },
  {
   "cell_type": "markdown",
   "id": "15bf1a09",
   "metadata": {},
   "source": [
    "#  Write a Python program to calculate the square root of a given number."
   ]
  },
  {
   "cell_type": "code",
   "execution_count": 5,
   "id": "7147b33f",
   "metadata": {},
   "outputs": [
    {
     "name": "stdout",
     "output_type": "stream",
     "text": [
      "Enter a number: 16\n",
      "Square root of 16.0 is 4.0\n"
     ]
    }
   ],
   "source": [
    "n = float(input(\"Enter a number: \"))\n",
    "\n",
    "squareroot_num = n**0.5\n",
    "\n",
    "print(\"Square root of\",n, \"is\",squareroot_num)"
   ]
  },
  {
   "cell_type": "markdown",
   "id": "9e0dd2cd",
   "metadata": {},
   "source": [
    "# Write a Python program to calculate the area of a triangle."
   ]
  },
  {
   "cell_type": "code",
   "execution_count": 6,
   "id": "8dac1547",
   "metadata": {},
   "outputs": [
    {
     "name": "stdout",
     "output_type": "stream",
     "text": [
      "Enter first side value: 5\n",
      "Enter second side value: 6\n",
      "Enter third side value: 7\n",
      "The Area of triangle is 14.696938456699069\n"
     ]
    }
   ],
   "source": [
    "a = float(input(\"Enter first side value: \"))\n",
    "b = float(input(\"Enter second side value: \"))\n",
    "c = float(input(\"Enter third side value: \"))\n",
    "\n",
    "s = (a+b+c)/2\n",
    "\n",
    "Area = (s*(s-a)*(s-b)*(s-c))**0.5\n",
    "\n",
    "print(\"The Area of triangle is\",Area)"
   ]
  },
  {
   "cell_type": "markdown",
   "id": "23537a23",
   "metadata": {},
   "source": [
    "# Write a Python program to check leap year."
   ]
  },
  {
   "cell_type": "code",
   "execution_count": 8,
   "id": "ab7b1c47",
   "metadata": {},
   "outputs": [],
   "source": [
    "def LeapYear(Year):\n",
    "    \n",
    "    if ((Year%400 == 0) or (Year%100 != 0) and (Year%4 == 0)):\n",
    "        print(\"the given year is leap year\")\n",
    "    else:\n",
    "        print(\"not a leap year\")"
   ]
  },
  {
   "cell_type": "code",
   "execution_count": 9,
   "id": "bd042727",
   "metadata": {},
   "outputs": [
    {
     "name": "stdout",
     "output_type": "stream",
     "text": [
      "Enter a year: 2016\n",
      "the given year is leap year\n"
     ]
    }
   ],
   "source": [
    "Year = int(input(\"Enter a year: \"))\n",
    "LeapYear(Year)"
   ]
  },
  {
   "cell_type": "markdown",
   "id": "df31aad2",
   "metadata": {},
   "source": [
    "# Write a Python program to display a multiplication table using for loop."
   ]
  },
  {
   "cell_type": "code",
   "execution_count": 10,
   "id": "44d4b500",
   "metadata": {},
   "outputs": [
    {
     "name": "stdout",
     "output_type": "stream",
     "text": [
      "Enter a number: 5\n",
      "The multiplication table of: 5\n",
      "5 x 1 = 5\n",
      "5 x 2 = 10\n",
      "5 x 3 = 15\n",
      "5 x 4 = 20\n",
      "5 x 5 = 25\n",
      "5 x 6 = 30\n",
      "5 x 7 = 35\n",
      "5 x 8 = 40\n",
      "5 x 9 = 45\n",
      "5 x 10 = 50\n"
     ]
    }
   ],
   "source": [
    "tab_number = int(input(\"Enter a number: \"))\n",
    "\n",
    "print(\"The multiplication table of:\", tab_number)\n",
    "\n",
    "for count in range(1,11):\n",
    "    print(tab_number, 'x', count, '=', tab_number*count)"
   ]
  },
  {
   "cell_type": "markdown",
   "id": "b11cc9e8",
   "metadata": {},
   "source": [
    "# Write a Python program to swap two variables."
   ]
  },
  {
   "cell_type": "code",
   "execution_count": 11,
   "id": "70f4d1f3",
   "metadata": {},
   "outputs": [
    {
     "name": "stdout",
     "output_type": "stream",
     "text": [
      "Enter the first variable: 6\n",
      "Enter the second variable: 7\n",
      "the value of num1 before swapping: 6\n",
      "the value of num2 before swapping: 7\n",
      "The value of num1 after swapping: 7\n",
      "The value of num2 after swapping: 6\n"
     ]
    }
   ],
   "source": [
    "num1 = input(\"Enter the first variable: \")\n",
    "num2 = input(\"Enter the second variable: \")\n",
    "\n",
    "print(\"the value of num1 before swapping: {}\".format(num1))\n",
    "print(\"the value of num2 before swapping: {}\".format(num2))\n",
    "\n",
    "temp = num1\n",
    "num1=num2\n",
    "num2 = temp\n",
    "\n",
    "print(\"The value of num1 after swapping: {}\".format(num1))\n",
    "print(\"The value of num2 after swapping: {}\".format(num2))"
   ]
  },
  {
   "cell_type": "markdown",
   "id": "44d95e61",
   "metadata": {},
   "source": [
    "# Write a Python program to check if a given number is a Fibonacci number or not."
   ]
  },
  {
   "cell_type": "code",
   "execution_count": 12,
   "id": "b4ca91b9",
   "metadata": {},
   "outputs": [
    {
     "name": "stdout",
     "output_type": "stream",
     "text": [
      "Enter the number: 6\n",
      "No. 6 is not a fibonacci number.\n"
     ]
    }
   ],
   "source": [
    "fib_nums = [0,1]\n",
    "\n",
    "number = int(input(\"Enter the number: \"))\n",
    "\n",
    "while fib_nums[-1] <= number:\n",
    "    fib_nums.append(fib_nums[-1] + fib_nums[-2])\n",
    "\n",
    "if number in fib_nums:\n",
    "    print(f\"Yes. {number} is a fibonacci number.\")\n",
    "else:\n",
    "    print(f\"No. {number} is not a fibonacci number.\")"
   ]
  },
  {
   "cell_type": "markdown",
   "id": "631dd5f5",
   "metadata": {},
   "source": [
    "# Write a Python program to find the area of a circle."
   ]
  },
  {
   "cell_type": "code",
   "execution_count": 14,
   "id": "51d8c480",
   "metadata": {},
   "outputs": [
    {
     "name": "stdout",
     "output_type": "stream",
     "text": [
      "Enter the value of radius: 4\n",
      "The area of circle is 50.272\n"
     ]
    }
   ],
   "source": [
    "def circ_Area(radius):\n",
    "    \n",
    "    PI = 3.142\n",
    "    return (PI*radius*radius);\n",
    "\n",
    "radius = float(input(\"Enter the value of radius: \"))\n",
    "print(\"The area of circle is\", circ_Area(radius))\n",
    "\n"
   ]
  },
  {
   "cell_type": "markdown",
   "id": "43abb3a1",
   "metadata": {},
   "source": [
    "# Write a Python program to print all prime numbers in an interval."
   ]
  },
  {
   "cell_type": "code",
   "execution_count": 9,
   "id": "55526a03",
   "metadata": {},
   "outputs": [
    {
     "name": "stdout",
     "output_type": "stream",
     "text": [
      "Enter the starting range: 5\n",
      "Enter the ending range: 25\n",
      "The prime numbers in the given range are:  [5, 7, 11, 13, 17, 19, 23]\n"
     ]
    }
   ],
   "source": [
    "# Python program to print all prime number in an interval\n",
    "\n",
    "def disp_Prime(num1, num2):\n",
    "\tprime_List = []\n",
    "\tfor i in range(num1, num2):\n",
    "\t\tif i == 0 or i == 1:\n",
    "\t\t\tcontinue\n",
    "\t\telse:\n",
    "\t\t\tfor j in range(2, int(i/2)+1):\n",
    "\t\t\t\tif i % j == 0:\n",
    "\t\t\t\t\tbreak\n",
    "\t\t\telse:\n",
    "\t\t\t\tprime_List.append(i)\n",
    "\treturn prime_List\n",
    "\n",
    "# Driver program\n",
    "starting_Num = int(input('Enter the starting range: '))\n",
    "ending_Num = int(input('Enter the ending range: '))\n",
    "lst = disp_Prime(starting_Num, ending_Num)\n",
    "if len(lst) == 0:\n",
    "\tprint(\"There are no prime numbers in this range\")\n",
    "else:\n",
    "\tprint(\"The prime numbers in the given range are: \", lst)"
   ]
  },
  {
   "cell_type": "markdown",
   "id": "625dfe29",
   "metadata": {},
   "source": [
    "# Write a Python Program to Find Vowels From a String."
   ]
  },
  {
   "cell_type": "code",
   "execution_count": 11,
   "id": "9deba2ed",
   "metadata": {},
   "outputs": [
    {
     "name": "stdout",
     "output_type": "stream",
     "text": [
      "the vowels are:  ['e', 'o']\n",
      "the vowels are:  ['o', 'i', 'u']\n",
      "the vowels are:  ['o', 'i', 'o', 'i', 'e']\n",
      "the vowels are:  []\n"
     ]
    }
   ],
   "source": [
    "def get_vowels(string):\n",
    "    return [each for each in string if each in \"aeiou\"]\n",
    "\n",
    "get_string1 = \"hello\"\n",
    "get_string2 = \"python is fun\"\n",
    "get_string3 = \"coding compiler\"\n",
    "get_string4 = \"12345xyz\"\n",
    "\n",
    "print(\"the vowels are: \", get_vowels(get_string1))\n",
    "print(\"the vowels are: \", get_vowels(get_string2))\n",
    "print(\"the vowels are: \", get_vowels(get_string3))\n",
    "print(\"the vowels are: \", get_vowels(get_string4))"
   ]
  },
  {
   "cell_type": "markdown",
   "id": "7bfb893f",
   "metadata": {},
   "source": [
    "# Write a Python Program to Convert Comma Separated List to a String."
   ]
  },
  {
   "cell_type": "code",
   "execution_count": 12,
   "id": "c80b3681",
   "metadata": {},
   "outputs": [
    {
     "name": "stdout",
     "output_type": "stream",
     "text": [
      "What is your favourite programming language:  Python, SQL, GO\n"
     ]
    }
   ],
   "source": [
    "favorite_prog = [\"Python\",\"SQL\",\"GO\"]\n",
    "\n",
    "print(\"What is your favourite programming language: \",\", \".join(favorite_prog))"
   ]
  },
  {
   "cell_type": "markdown",
   "id": "f117adcd",
   "metadata": {},
   "source": [
    "# Write a Python Program to Capitalize the First Letter of a String."
   ]
  },
  {
   "cell_type": "code",
   "execution_count": 13,
   "id": "7a26fae9",
   "metadata": {},
   "outputs": [
    {
     "name": "stdout",
     "output_type": "stream",
     "text": [
      "The capitalized string is:  Hello\n",
      "The capitalized string is:  Python Programming\n",
      "The capitalized string is:  Python Is Easy To Learn\n"
     ]
    }
   ],
   "source": [
    "def capitalize(String):\n",
    "    return String.title()\n",
    "\n",
    "get_capital1 = \"hello\"\n",
    "get_capital2 = \"python programming\"\n",
    "get_capital3 = \"python is easy to learn\"\n",
    "\n",
    "print(\"The capitalized string is: \", capitalize(get_capital1))\n",
    "print(\"The capitalized string is: \", capitalize(get_capital2))\n",
    "print(\"The capitalized string is: \", capitalize(get_capital3))"
   ]
  },
  {
   "cell_type": "markdown",
   "id": "63b90dc3",
   "metadata": {},
   "source": [
    "# Write a Python Program to Implicit Type Conversion."
   ]
  },
  {
   "cell_type": "code",
   "execution_count": 14,
   "id": "d140b023",
   "metadata": {},
   "outputs": [
    {
     "name": "stdout",
     "output_type": "stream",
     "text": [
      "Datatype of get_num1: <class 'int'>\n",
      "Datatype of get_num2: <class 'float'>\n",
      "Datatype of get_num3: <class 'float'>\n"
     ]
    }
   ],
   "source": [
    "get_num1 = 199\n",
    "get_num2 = 1.25\n",
    "get_num3 = get_num1 + get_num2\n",
    "\n",
    "print(\"Datatype of get_num1:\", type(get_num1))\n",
    "print(\"Datatype of get_num2:\", type(get_num2))\n",
    "print(\"Datatype of get_num3:\", type(get_num3))\n",
    "\n",
    "\n"
   ]
  },
  {
   "cell_type": "markdown",
   "id": "29558c63",
   "metadata": {},
   "source": [
    "# What’s the Output of this Python program?"
   ]
  },
  {
   "cell_type": "code",
   "execution_count": 15,
   "id": "5831e92e",
   "metadata": {},
   "outputs": [
    {
     "name": "stdout",
     "output_type": "stream",
     "text": [
      "Datatype of num_int:  <class 'int'>\n",
      "Datatype of num_str:  <class 'str'>\n"
     ]
    },
    {
     "ename": "TypeError",
     "evalue": "unsupported operand type(s) for +: 'int' and 'str'",
     "output_type": "error",
     "traceback": [
      "\u001b[1;31m---------------------------------------------------------------------------\u001b[0m",
      "\u001b[1;31mTypeError\u001b[0m                                 Traceback (most recent call last)",
      "\u001b[1;32m~\\AppData\\Local\\Temp\\ipykernel_18176\\1401283316.py\u001b[0m in \u001b[0;36m<module>\u001b[1;34m\u001b[0m\n\u001b[0;32m      4\u001b[0m \u001b[0mprint\u001b[0m\u001b[1;33m(\u001b[0m\u001b[1;34m\"Datatype of num_int: \"\u001b[0m\u001b[1;33m,\u001b[0m \u001b[0mtype\u001b[0m\u001b[1;33m(\u001b[0m\u001b[0mnum1\u001b[0m\u001b[1;33m)\u001b[0m\u001b[1;33m)\u001b[0m\u001b[1;33m\u001b[0m\u001b[1;33m\u001b[0m\u001b[0m\n\u001b[0;32m      5\u001b[0m \u001b[0mprint\u001b[0m\u001b[1;33m(\u001b[0m\u001b[1;34m\"Datatype of num_str: \"\u001b[0m\u001b[1;33m,\u001b[0m \u001b[0mtype\u001b[0m\u001b[1;33m(\u001b[0m\u001b[0mnum2\u001b[0m\u001b[1;33m)\u001b[0m\u001b[1;33m)\u001b[0m\u001b[1;33m\u001b[0m\u001b[1;33m\u001b[0m\u001b[0m\n\u001b[1;32m----> 6\u001b[1;33m \u001b[0mprint\u001b[0m\u001b[1;33m(\u001b[0m\u001b[1;34m\"Datatype: \"\u001b[0m\u001b[1;33m,\u001b[0m \u001b[0mtype\u001b[0m\u001b[1;33m(\u001b[0m\u001b[0mnum1\u001b[0m \u001b[1;33m+\u001b[0m \u001b[0mnum2\u001b[0m\u001b[1;33m)\u001b[0m\u001b[1;33m)\u001b[0m\u001b[1;33m\u001b[0m\u001b[1;33m\u001b[0m\u001b[0m\n\u001b[0m",
      "\u001b[1;31mTypeError\u001b[0m: unsupported operand type(s) for +: 'int' and 'str'"
     ]
    }
   ],
   "source": [
    "num1 = 123\n",
    "num2 = \"456\"\n",
    "\n",
    "print(\"Datatype of num_int: \", type(num1))\n",
    "print(\"Datatype of num_str: \", type(num2))\n",
    "print(\"Datatype: \", type(num1 + num2))"
   ]
  },
  {
   "cell_type": "markdown",
   "id": "5d45d34d",
   "metadata": {},
   "source": [
    "# Write a Python Program to Explicit Type Conversion."
   ]
  },
  {
   "cell_type": "code",
   "execution_count": 16,
   "id": "bbf71da1",
   "metadata": {},
   "outputs": [
    {
     "name": "stdout",
     "output_type": "stream",
     "text": [
      "Datatype of num1:  <class 'int'>\n",
      "Datatype of num2:  <class 'str'>\n",
      "Datatype of num2 after typecasting: <class 'int'>\n",
      "Sum of num1 and num2: 579\n",
      "Datatype of num3: <class 'int'>\n"
     ]
    }
   ],
   "source": [
    "num1 = 123\n",
    "num2 = \"456\"\n",
    "\n",
    "print(\"Datatype of num1: \", type(num1))\n",
    "print(\"Datatype of num2: \", type(num2))\n",
    "\n",
    "num2 = int(num2)\n",
    "print(\"Datatype of num2 after typecasting:\", type(num2))\n",
    "\n",
    "num3 = num1+num2\n",
    "\n",
    "print(\"Sum of num1 and num2:\", num3)\n",
    "print(\"Datatype of num3:\", type(num3))"
   ]
  },
  {
   "cell_type": "markdown",
   "id": "f9bd38eb",
   "metadata": {},
   "source": [
    "# What’s the Output of this Python Namespace program?"
   ]
  },
  {
   "cell_type": "code",
   "execution_count": 1,
   "id": "c921acce",
   "metadata": {},
   "outputs": [
    {
     "name": "stdout",
     "output_type": "stream",
     "text": [
      "num= 30\n",
      "num= 20\n",
      "num= 10\n"
     ]
    }
   ],
   "source": [
    "def outer_function():\n",
    "    num = 20\n",
    "    \n",
    "    def inner_function():\n",
    "        num = 30\n",
    "        print('num=', num)\n",
    "    \n",
    "    inner_function()\n",
    "    print('num=', num)\n",
    "    \n",
    "num=10\n",
    "outer_function()\n",
    "print('num=', num)"
   ]
  },
  {
   "cell_type": "markdown",
   "id": "4744265f",
   "metadata": {},
   "source": [
    "# Python Namespace Program."
   ]
  },
  {
   "cell_type": "code",
   "execution_count": 2,
   "id": "30e83188",
   "metadata": {},
   "outputs": [
    {
     "name": "stdout",
     "output_type": "stream",
     "text": [
      "num= 30\n",
      "num= 30\n",
      "num= 30\n"
     ]
    }
   ],
   "source": [
    "def outer_function():\n",
    "    global num\n",
    "    num = 20\n",
    "    \n",
    "    def inner_function():\n",
    "        global num\n",
    "        num=30\n",
    "        print('num=', num)\n",
    "        \n",
    "    inner_function()\n",
    "    print('num=', num)\n",
    "    \n",
    "num =10\n",
    "outer_function()\n",
    "print('num=', num)\n"
   ]
  },
  {
   "cell_type": "code",
   "execution_count": null,
   "id": "ab793771",
   "metadata": {},
   "outputs": [],
   "source": []
  }
 ],
 "metadata": {
  "kernelspec": {
   "display_name": "Python 3 (ipykernel)",
   "language": "python",
   "name": "python3"
  },
  "language_info": {
   "codemirror_mode": {
    "name": "ipython",
    "version": 3
   },
   "file_extension": ".py",
   "mimetype": "text/x-python",
   "name": "python",
   "nbconvert_exporter": "python",
   "pygments_lexer": "ipython3",
   "version": "3.10.9"
  }
 },
 "nbformat": 4,
 "nbformat_minor": 5
}
