{
 "cells": [
  {
   "cell_type": "code",
   "execution_count": 5,
   "id": "4018ac42",
   "metadata": {},
   "outputs": [],
   "source": [
    "def find_duplicates(x):\n",
    "    length = len(x)\n",
    "    duplicates = []\n",
    "    for i in range(length):\n",
    "        n = i + 1\n",
    "        for a in range(n, length):\n",
    "            if x[i] == x[a] and x[i] not in duplicates:\n",
    "                duplicates.append(x[i])\n",
    "    return duplicates"
   ]
  },
  {
   "cell_type": "code",
   "execution_count": 6,
   "id": "c6c39450",
   "metadata": {},
   "outputs": [],
   "source": [
    "x = [\"khushi\",\"mahak\",\"khushi\",\"ranu\",\"athar\",\"ranu\"]"
   ]
  },
  {
   "cell_type": "code",
   "execution_count": 7,
   "id": "6ae60702",
   "metadata": {},
   "outputs": [
    {
     "data": {
      "text/plain": [
       "['khushi', 'ranu']"
      ]
     },
     "execution_count": 7,
     "metadata": {},
     "output_type": "execute_result"
    }
   ],
   "source": [
    "find_duplicates(x)"
   ]
  },
  {
   "cell_type": "code",
   "execution_count": null,
   "id": "8a4ac7cb",
   "metadata": {},
   "outputs": [],
   "source": []
  }
 ],
 "metadata": {
  "kernelspec": {
   "display_name": "Python 3 (ipykernel)",
   "language": "python",
   "name": "python3"
  },
  "language_info": {
   "codemirror_mode": {
    "name": "ipython",
    "version": 3
   },
   "file_extension": ".py",
   "mimetype": "text/x-python",
   "name": "python",
   "nbconvert_exporter": "python",
   "pygments_lexer": "ipython3",
   "version": "3.10.9"
  }
 },
 "nbformat": 4,
 "nbformat_minor": 5
}
