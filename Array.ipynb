{
 "cells": [
  {
   "cell_type": "markdown",
   "id": "f46c8aa9",
   "metadata": {},
   "source": [
    "# Unique Color Shirt"
   ]
  },
  {
   "cell_type": "markdown",
   "id": "81ad33af",
   "metadata": {},
   "source": [
    "#CONCEPTS USED:\n",
    "Hashing\n",
    "\n",
    "DIFFICULTY LEVEL:\n",
    "Easy\n",
    "\n",
    "PROBLEM STATEMENT(SIMPLIFIED):\n",
    "Given an array A with N integers, find the count of unique integers in the array.# "
   ]
  },
  {
   "cell_type": "markdown",
   "id": "6684f2ad",
   "metadata": {},
   "source": [
    "# SOLVING APPROACH:\n",
    "Initialize a temporary Hash Array for storing the frequency of all the elements in the array.\n",
    "Traverse the array and keep incrementing the frequency of elements in the Hash Array.\n",
    "Finally, traverse and find the count of all such unique elements, hence print it."
   ]
  },
  {
   "cell_type": "code",
   "execution_count": null,
   "id": "0b889ecb",
   "metadata": {},
   "outputs": [],
   "source": [
    "n = int(input())"
   ]
  },
  {
   "cell_type": "code",
   "execution_count": null,
   "id": "eb809e15",
   "metadata": {},
   "outputs": [],
   "source": [
    "# hash array for storing frequency of same coloured shirts\n",
    "hash_ = [0 for i in range(1001)]"
   ]
  },
  {
   "cell_type": "code",
   "execution_count": null,
   "id": "a537ec70",
   "metadata": {},
   "outputs": [],
   "source": [
    "#count of unique shirts\n",
    "count=0"
   ]
  },
  {
   "cell_type": "code",
   "execution_count": null,
   "id": "597e8938",
   "metadata": {},
   "outputs": [],
   "source": [
    "n=int(input())\n",
    "\n",
    "# hash array for storing frequency of same coloured shirts\n",
    "hash_=[0 for i in range(1001)]\n",
    "# count of unique shirts\n",
    "count=0\n",
    "# input the shirt and increment its frequency\n",
    "arr=list(map(int,input().split()))\n",
    "for i in range(n):\n",
    "    hash_[arr[i]]+=1\n",
    "# count all unique shirts\n",
    "for i in range(n):\n",
    "    if hash_[arr[i]]==1:\n",
    "        count+=1\n",
    "print(count)"
   ]
  },
  {
   "cell_type": "markdown",
   "id": "8b2eb9b2",
   "metadata": {},
   "source": [
    "# How to Print Roll No. of Students at Even Places"
   ]
  },
  {
   "cell_type": "code",
   "execution_count": 1,
   "id": "c8b99d33",
   "metadata": {},
   "outputs": [
    {
     "name": "stdout",
     "output_type": "stream",
     "text": [
      "6\n",
      "8\n",
      "8 "
     ]
    },
    {
     "ename": "IndexError",
     "evalue": "list index out of range",
     "output_type": "error",
     "traceback": [
      "\u001b[1;31m---------------------------------------------------------------------------\u001b[0m",
      "\u001b[1;31mIndexError\u001b[0m                                Traceback (most recent call last)",
      "\u001b[1;32m~\\AppData\\Local\\Temp\\ipykernel_16208\\1955463372.py\u001b[0m in \u001b[0;36m<module>\u001b[1;34m\u001b[0m\n\u001b[0;32m      3\u001b[0m \u001b[1;32mfor\u001b[0m \u001b[0mi\u001b[0m \u001b[1;32min\u001b[0m \u001b[0mrange\u001b[0m\u001b[1;33m(\u001b[0m\u001b[0mn\u001b[0m\u001b[1;33m)\u001b[0m\u001b[1;33m:\u001b[0m\u001b[1;33m\u001b[0m\u001b[1;33m\u001b[0m\u001b[0m\n\u001b[0;32m      4\u001b[0m     \u001b[1;32mif\u001b[0m \u001b[0mi\u001b[0m\u001b[1;33m%\u001b[0m\u001b[1;36m2\u001b[0m\u001b[1;33m==\u001b[0m\u001b[1;36m0\u001b[0m\u001b[1;33m:\u001b[0m\u001b[1;33m\u001b[0m\u001b[1;33m\u001b[0m\u001b[0m\n\u001b[1;32m----> 5\u001b[1;33m         \u001b[0mprint\u001b[0m\u001b[1;33m(\u001b[0m\u001b[0marr\u001b[0m\u001b[1;33m[\u001b[0m\u001b[0mi\u001b[0m\u001b[1;33m]\u001b[0m\u001b[1;33m,\u001b[0m \u001b[0mend\u001b[0m \u001b[1;33m=\u001b[0m \u001b[1;34m\" \"\u001b[0m\u001b[1;33m)\u001b[0m\u001b[1;33m\u001b[0m\u001b[1;33m\u001b[0m\u001b[0m\n\u001b[0m",
      "\u001b[1;31mIndexError\u001b[0m: list index out of range"
     ]
    }
   ],
   "source": [
    "n = int(input())\n",
    "arr = list(map(int,input().split()))\n",
    "for i in range(n):\n",
    "    if i%2==0:\n",
    "        print(arr[i], end = \" \")"
   ]
  },
  {
   "cell_type": "code",
   "execution_count": 2,
   "id": "0b31d0f5",
   "metadata": {},
   "outputs": [
    {
     "ename": "ModuleNotFoundError",
     "evalue": "No module named 'constant'",
     "output_type": "error",
     "traceback": [
      "\u001b[1;31m---------------------------------------------------------------------------\u001b[0m",
      "\u001b[1;31mModuleNotFoundError\u001b[0m                       Traceback (most recent call last)",
      "\u001b[1;32m~\\AppData\\Local\\Temp\\ipykernel_16208\\521640044.py\u001b[0m in \u001b[0;36m<module>\u001b[1;34m\u001b[0m\n\u001b[1;32m----> 1\u001b[1;33m \u001b[1;32mimport\u001b[0m \u001b[0mconstant\u001b[0m\u001b[1;33m\u001b[0m\u001b[1;33m\u001b[0m\u001b[0m\n\u001b[0m",
      "\u001b[1;31mModuleNotFoundError\u001b[0m: No module named 'constant'"
     ]
    }
   ],
   "source": [
    "import constant"
   ]
  },
  {
   "cell_type": "code",
   "execution_count": null,
   "id": "dd3194dc",
   "metadata": {},
   "outputs": [],
   "source": []
  }
 ],
 "metadata": {
  "kernelspec": {
   "display_name": "Python 3 (ipykernel)",
   "language": "python",
   "name": "python3"
  },
  "language_info": {
   "codemirror_mode": {
    "name": "ipython",
    "version": 3
   },
   "file_extension": ".py",
   "mimetype": "text/x-python",
   "name": "python",
   "nbconvert_exporter": "python",
   "pygments_lexer": "ipython3",
   "version": "3.10.9"
  }
 },
 "nbformat": 4,
 "nbformat_minor": 5
}
