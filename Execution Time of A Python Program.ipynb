{
 "cells": [
  {
   "cell_type": "code",
   "execution_count": 1,
   "id": "4691de98",
   "metadata": {},
   "outputs": [
    {
     "name": "stdout",
     "output_type": "stream",
     "text": [
      " AI\n",
      "Execution Time :  0.0002989768981933594\n"
     ]
    }
   ],
   "source": [
    "from time import time\n",
    "start = time()\n",
    "\n",
    "#Python Program to create acronyms\n",
    "word = \"Artificial Intelligence\"\n",
    "text = word.split()\n",
    "a = \" \"\n",
    "\n",
    "for i in text:\n",
    "    a = a+str(i[0]).upper()\n",
    "print(a)\n",
    "\n",
    "end = time()\n",
    "execution_time = end -start\n",
    "print(\"Execution Time : \", execution_time)"
   ]
  },
  {
   "cell_type": "code",
   "execution_count": null,
   "id": "152020be",
   "metadata": {},
   "outputs": [],
   "source": []
  }
 ],
 "metadata": {
  "kernelspec": {
   "display_name": "Python 3 (ipykernel)",
   "language": "python",
   "name": "python3"
  },
  "language_info": {
   "codemirror_mode": {
    "name": "ipython",
    "version": 3
   },
   "file_extension": ".py",
   "mimetype": "text/x-python",
   "name": "python",
   "nbconvert_exporter": "python",
   "pygments_lexer": "ipython3",
   "version": "3.10.9"
  }
 },
 "nbformat": 4,
 "nbformat_minor": 5
}
