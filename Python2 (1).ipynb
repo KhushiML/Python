{
 "cells": [
  {
   "cell_type": "markdown",
   "id": "b4f51e50",
   "metadata": {},
   "source": [
    "# Write a program to print the given number is odd or even."
   ]
  },
  {
   "cell_type": "code",
   "execution_count": 1,
   "id": "85afe786",
   "metadata": {},
   "outputs": [
    {
     "name": "stdout",
     "output_type": "stream",
     "text": [
      "Enter a number: 6\n"
     ]
    }
   ],
   "source": [
    "num = int(input(\"Enter a number: \"))"
   ]
  },
  {
   "cell_type": "code",
   "execution_count": 2,
   "id": "4113b760",
   "metadata": {},
   "outputs": [
    {
     "name": "stdout",
     "output_type": "stream",
     "text": [
      "even number\n"
     ]
    }
   ],
   "source": [
    "if (num % 2)==0:\n",
    "    print(\"even number\")\n",
    "else:\n",
    "    print(\"odd number\")"
   ]
  },
  {
   "cell_type": "markdown",
   "id": "03482272",
   "metadata": {},
   "source": [
    "# Write a program to find the given number is positive or negative."
   ]
  },
  {
   "cell_type": "code",
   "execution_count": 3,
   "id": "70b47a35",
   "metadata": {},
   "outputs": [
    {
     "name": "stdout",
     "output_type": "stream",
     "text": [
      "enter a number: 5\n"
     ]
    }
   ],
   "source": [
    "num = float(input(\"enter a number: \"))"
   ]
  },
  {
   "cell_type": "code",
   "execution_count": 5,
   "id": "0bff48dd",
   "metadata": {},
   "outputs": [
    {
     "name": "stdout",
     "output_type": "stream",
     "text": [
      "Even Number\n"
     ]
    }
   ],
   "source": [
    "if num>0:\n",
    "    print(\"Even Number\")\n",
    "elif num==0:\n",
    "    print(\"Zero\")\n",
    "else:\n",
    "    print(\"Negative Number\")"
   ]
  },
  {
   "cell_type": "markdown",
   "id": "66d2826d",
   "metadata": {},
   "source": [
    "# Write a program to find if the given number is prime or not."
   ]
  },
  {
   "cell_type": "code",
   "execution_count": 6,
   "id": "1d9170b2",
   "metadata": {},
   "outputs": [
    {
     "name": "stdout",
     "output_type": "stream",
     "text": [
      "Enter a number: 5\n"
     ]
    }
   ],
   "source": [
    "num = int(input(\"Enter a number: \"))"
   ]
  },
  {
   "cell_type": "code",
   "execution_count": 7,
   "id": "07ca687f",
   "metadata": {},
   "outputs": [
    {
     "name": "stdout",
     "output_type": "stream",
     "text": [
      "5 is a prime number\n"
     ]
    }
   ],
   "source": [
    "flag = False\n",
    "\n",
    "if num > 1:\n",
    "    for i in range(2,num):\n",
    "        if (num%i) == 0:\n",
    "            flag = True\n",
    "            break\n",
    "if flag:\n",
    "    print(num, \"is not a prime number\")\n",
    "    \n",
    "else:\n",
    "    print(num,\"is a prime number\")\n",
    "            \n",
    "            \n",
    "        "
   ]
  },
  {
   "cell_type": "markdown",
   "id": "aa7f983d",
   "metadata": {},
   "source": [
    "# Write a program to check if the given number is Armstrong or not."
   ]
  },
  {
   "cell_type": "code",
   "execution_count": 8,
   "id": "5927e16d",
   "metadata": {},
   "outputs": [
    {
     "name": "stdout",
     "output_type": "stream",
     "text": [
      "Enter a number: 407\n",
      "407 is an Armstrong number.\n"
     ]
    }
   ],
   "source": [
    "num = int(input(\"Enter a number: \"))\n",
    "sum = 0\n",
    "temp = num\n",
    "\n",
    "while temp>0:\n",
    "    digit = temp % 10\n",
    "    sum += digit **3\n",
    "    temp //= 10\n",
    "    \n",
    "if num == sum:\n",
    "    print(num,\"is an Armstrong number.\")\n",
    "else:\n",
    "    print(num,\"is not an Armstrong number.\")\n",
    "    "
   ]
  },
  {
   "cell_type": "markdown",
   "id": "59dd1fc6",
   "metadata": {},
   "source": [
    "# Write a program to check if the given strings are anagram or not."
   ]
  },
  {
   "cell_type": "code",
   "execution_count": 11,
   "id": "5adac5e9",
   "metadata": {},
   "outputs": [],
   "source": [
    "def check(s1,s2):\n",
    "    \n",
    "    if (sorted(s1) == sorted(s2)):\n",
    "        print(\"the strings are anagrams.\")\n",
    "    else:\n",
    "        print(\"the strings are not anagrams.\") "
   ]
  },
  {
   "cell_type": "code",
   "execution_count": 12,
   "id": "854861e7",
   "metadata": {},
   "outputs": [
    {
     "name": "stdout",
     "output_type": "stream",
     "text": [
      "Enter a string1: listen\n",
      "Enter a string2: silent\n"
     ]
    }
   ],
   "source": [
    "s1 = input(\"Enter a string1: \")\n",
    "s2 = input(\"Enter a string2: \")"
   ]
  },
  {
   "cell_type": "code",
   "execution_count": 13,
   "id": "6e1d03ee",
   "metadata": {},
   "outputs": [
    {
     "name": "stdout",
     "output_type": "stream",
     "text": [
      "the strings are anagrams.\n"
     ]
    }
   ],
   "source": [
    "check(s1,s2)"
   ]
  },
  {
   "cell_type": "markdown",
   "id": "83059efa",
   "metadata": {},
   "source": [
    "# Write a program to find a maximum of two numbers."
   ]
  },
  {
   "cell_type": "code",
   "execution_count": 16,
   "id": "2fea7576",
   "metadata": {},
   "outputs": [],
   "source": [
    "def maximum(a,b):\n",
    "    \n",
    "    if a >= b:\n",
    "        return a\n",
    "    else:\n",
    "        return b"
   ]
  },
  {
   "cell_type": "code",
   "execution_count": 17,
   "id": "a07e9030",
   "metadata": {},
   "outputs": [
    {
     "name": "stdout",
     "output_type": "stream",
     "text": [
      "Enter a number: 5\n",
      "Enter a number: 8\n"
     ]
    }
   ],
   "source": [
    "a = float(input(\"Enter a number: \"))\n",
    "b = float(input(\"Enter a number: \"))"
   ]
  },
  {
   "cell_type": "code",
   "execution_count": 18,
   "id": "5278ffa1",
   "metadata": {},
   "outputs": [
    {
     "data": {
      "text/plain": [
       "8.0"
      ]
     },
     "execution_count": 18,
     "metadata": {},
     "output_type": "execute_result"
    }
   ],
   "source": [
    "maximum(a,b)"
   ]
  },
  {
   "cell_type": "markdown",
   "id": "b92ce766",
   "metadata": {},
   "source": [
    "# Write a program to find a minimum of two numbers."
   ]
  },
  {
   "cell_type": "code",
   "execution_count": 19,
   "id": "e9f0c5f2",
   "metadata": {},
   "outputs": [],
   "source": [
    "def minimum(a,b):\n",
    "    \n",
    "    if a <= b:\n",
    "        return a\n",
    "    else:\n",
    "        return b"
   ]
  },
  {
   "cell_type": "code",
   "execution_count": 20,
   "id": "67feacdc",
   "metadata": {},
   "outputs": [
    {
     "name": "stdout",
     "output_type": "stream",
     "text": [
      "Enter a number: 9\n",
      "Enter a number: 6\n"
     ]
    }
   ],
   "source": [
    "a = float(input(\"Enter a number: \"))\n",
    "b = float(input(\"Enter a number: \"))"
   ]
  },
  {
   "cell_type": "code",
   "execution_count": 21,
   "id": "ec58262a",
   "metadata": {},
   "outputs": [
    {
     "data": {
      "text/plain": [
       "6.0"
      ]
     },
     "execution_count": 21,
     "metadata": {},
     "output_type": "execute_result"
    }
   ],
   "source": [
    "minimum(a,b)"
   ]
  },
  {
   "cell_type": "markdown",
   "id": "93d45623",
   "metadata": {},
   "source": [
    "# Write a program to find a maximum of three numbers."
   ]
  },
  {
   "cell_type": "code",
   "execution_count": 22,
   "id": "10c22e58",
   "metadata": {},
   "outputs": [],
   "source": [
    "def maximum(a,b,c):\n",
    "    \n",
    "    if (a>=b) and (a>=c):\n",
    "        return a\n",
    "    elif (b>=c) and (b>=a):\n",
    "        return b\n",
    "    else:\n",
    "        return c\n",
    "        "
   ]
  },
  {
   "cell_type": "code",
   "execution_count": 23,
   "id": "f88c0378",
   "metadata": {},
   "outputs": [
    {
     "name": "stdout",
     "output_type": "stream",
     "text": [
      "Enter a number: 7\n",
      "Enter a number: 8\n",
      "Enter a number: 9\n"
     ]
    }
   ],
   "source": [
    "a = float(input(\"Enter a number: \"))\n",
    "b = float(input(\"Enter a number: \"))\n",
    "c = float(input(\"Enter a number: \"))"
   ]
  },
  {
   "cell_type": "code",
   "execution_count": 24,
   "id": "5601bbb9",
   "metadata": {},
   "outputs": [
    {
     "data": {
      "text/plain": [
       "9.0"
      ]
     },
     "execution_count": 24,
     "metadata": {},
     "output_type": "execute_result"
    }
   ],
   "source": [
    "maximum(a,b,c)"
   ]
  },
  {
   "cell_type": "markdown",
   "id": "08e624d9",
   "metadata": {},
   "source": [
    "# Write a program to find a minimum of three numbers."
   ]
  },
  {
   "cell_type": "code",
   "execution_count": 25,
   "id": "7ae0930a",
   "metadata": {},
   "outputs": [],
   "source": [
    "def minimum(a,b,c):\n",
    "    \n",
    "    if (a<=b) and (a<=c):\n",
    "        return a\n",
    "    elif (b<=a) and (b<=c):\n",
    "        return b\n",
    "    else:\n",
    "        return c\n",
    "    "
   ]
  },
  {
   "cell_type": "code",
   "execution_count": 26,
   "id": "7b9498b8",
   "metadata": {},
   "outputs": [
    {
     "name": "stdout",
     "output_type": "stream",
     "text": [
      "Enter a number: 9\n",
      "Enter a number: 7\n",
      "Enter a number: 5\n"
     ]
    }
   ],
   "source": [
    "a = float(input(\"Enter a number: \"))\n",
    "b = float(input(\"Enter a number: \"))\n",
    "c = float(input(\"Enter a number: \"))"
   ]
  },
  {
   "cell_type": "code",
   "execution_count": 27,
   "id": "c4c87e44",
   "metadata": {},
   "outputs": [
    {
     "data": {
      "text/plain": [
       "5.0"
      ]
     },
     "execution_count": 27,
     "metadata": {},
     "output_type": "execute_result"
    }
   ],
   "source": [
    "minimum(a,b,c)"
   ]
  },
  {
   "cell_type": "markdown",
   "id": "5383251a",
   "metadata": {},
   "source": [
    "# Write a program to find a factorial of a number."
   ]
  },
  {
   "cell_type": "code",
   "execution_count": 28,
   "id": "e1cc8c5a",
   "metadata": {},
   "outputs": [
    {
     "name": "stdout",
     "output_type": "stream",
     "text": [
      "Enter a number: 5\n"
     ]
    }
   ],
   "source": [
    "num = int(input(\"Enter a number: \"))"
   ]
  },
  {
   "cell_type": "code",
   "execution_count": 31,
   "id": "a46d10eb",
   "metadata": {},
   "outputs": [],
   "source": [
    "def factorial(num):\n",
    "    \n",
    "    factorial =1\n",
    "    \n",
    "    if num < 0:\n",
    "        print(\"factorial of number does not exist.\")\n",
    "    elif num == 0 :\n",
    "        print(\"factorial of number is zero.\")\n",
    "    else:\n",
    "        for i in range(1,num+1):\n",
    "            factorial = factorial*i\n",
    "        print(factorial)\n",
    "        \n",
    "        "
   ]
  },
  {
   "cell_type": "code",
   "execution_count": 32,
   "id": "ad500fbf",
   "metadata": {},
   "outputs": [
    {
     "name": "stdout",
     "output_type": "stream",
     "text": [
      "120\n"
     ]
    }
   ],
   "source": [
    "factorial(5)"
   ]
  },
  {
   "cell_type": "markdown",
   "id": "c4be7163",
   "metadata": {},
   "source": [
    "# Write a program to find a fibonacci of a number."
   ]
  },
  {
   "cell_type": "code",
   "execution_count": 33,
   "id": "ec325c8f",
   "metadata": {},
   "outputs": [
    {
     "name": "stdout",
     "output_type": "stream",
     "text": [
      "How many terms? 9\n"
     ]
    }
   ],
   "source": [
    "nterms = int(input(\"How many terms? \"))"
   ]
  },
  {
   "cell_type": "code",
   "execution_count": 34,
   "id": "8b54e9f6",
   "metadata": {},
   "outputs": [
    {
     "name": "stdout",
     "output_type": "stream",
     "text": [
      "Fibonacci Sequence:\n",
      "0\n",
      "1\n",
      "1\n",
      "2\n",
      "3\n",
      "5\n",
      "8\n",
      "13\n",
      "21\n"
     ]
    }
   ],
   "source": [
    "n1, n2 = 0, 1\n",
    "count=0\n",
    "\n",
    "if nterms <= 0:\n",
    "    print(\"Enter a positive integer\")\n",
    "elif nterms == 1:\n",
    "    print(\"Fibonacci sequence upto\",nterms, \":\")\n",
    "    print(n1)\n",
    "else:\n",
    "    print(\"Fibonacci Sequence:\")\n",
    "    while count < nterms:\n",
    "        print(n1)\n",
    "        nth = n1 + n2\n",
    "        n1 = n2\n",
    "        n2 = nth\n",
    "        count += 1\n",
    "        \n",
    "    "
   ]
  },
  {
   "cell_type": "markdown",
   "id": "d81069ca",
   "metadata": {},
   "source": [
    "# Write a program to find GCD of two numbers."
   ]
  },
  {
   "cell_type": "code",
   "execution_count": 40,
   "id": "574c2e70",
   "metadata": {},
   "outputs": [],
   "source": [
    "def gcd(a,b):\n",
    "    \n",
    "    if (a==0):\n",
    "        return b\n",
    "    if (b==0):\n",
    "        return b\n",
    "    if (a==b):\n",
    "        return a\n",
    "    if (a>b):\n",
    "        return gcd(a-b,b)\n",
    "    return gcd(a,b-a)\n",
    "    "
   ]
  },
  {
   "cell_type": "code",
   "execution_count": 41,
   "id": "42ee4fa6",
   "metadata": {},
   "outputs": [],
   "source": [
    "a=98\n",
    "b=56"
   ]
  },
  {
   "cell_type": "code",
   "execution_count": 42,
   "id": "27a743d9",
   "metadata": {},
   "outputs": [
    {
     "name": "stdout",
     "output_type": "stream",
     "text": [
      "GCD of 98 and 56 is  14\n"
     ]
    }
   ],
   "source": [
    "if (gcd(a,b)):\n",
    "    print(\"GCD of\", a ,\"and\", b , \"is \", gcd(a,b))\n",
    "else:\n",
    "    print(\"Not Found\")"
   ]
  },
  {
   "cell_type": "markdown",
   "id": "06a36c40",
   "metadata": {},
   "source": [
    "# Write a program to print the following pattern."
   ]
  },
  {
   "cell_type": "code",
   "execution_count": 43,
   "id": "58f5a7a4",
   "metadata": {},
   "outputs": [],
   "source": [
    "def myfunc(n):\n",
    "    for i in range(0,n):\n",
    "        for j in range(0,i+1):\n",
    "            print(\"* \",end=\"\")\n",
    "        print(\"\\r\")\n",
    "\n",
    "            "
   ]
  },
  {
   "cell_type": "code",
   "execution_count": 45,
   "id": "aa87a1b1",
   "metadata": {},
   "outputs": [],
   "source": [
    "n=5"
   ]
  },
  {
   "cell_type": "code",
   "execution_count": 46,
   "id": "8f73c9e0",
   "metadata": {},
   "outputs": [
    {
     "name": "stdout",
     "output_type": "stream",
     "text": [
      "* \r\n",
      "* * \r\n",
      "* * * \r\n",
      "* * * * \r\n",
      "* * * * * \r\n"
     ]
    }
   ],
   "source": [
    "myfunc(5)"
   ]
  },
  {
   "cell_type": "markdown",
   "id": "9994aab3",
   "metadata": {},
   "source": [
    "# Write a program to print the following pattern.\n"
   ]
  },
  {
   "cell_type": "code",
   "execution_count": 2,
   "id": "efbf9243",
   "metadata": {},
   "outputs": [],
   "source": [
    "def myfunc(n):\n",
    "    k = n-1\n",
    "    for i in range(0,n):\n",
    "        for j in range(0,k):\n",
    "            print(end=\" \")\n",
    "        k=k-1\n",
    "        for j in range(0,i+1):\n",
    "            print(\"* \", end=\"\")\n",
    "        print(\"\\r\")\n"
   ]
  },
  {
   "cell_type": "code",
   "execution_count": 3,
   "id": "25497594",
   "metadata": {},
   "outputs": [
    {
     "name": "stdout",
     "output_type": "stream",
     "text": [
      "    * \r\n",
      "   * * \r\n",
      "  * * * \r\n",
      " * * * * \r\n",
      "* * * * * \r\n"
     ]
    }
   ],
   "source": [
    "n=5\n",
    "myfunc(n)"
   ]
  },
  {
   "cell_type": "markdown",
   "id": "8d49c8d7",
   "metadata": {},
   "source": [
    "# Write a program to print the following pattern."
   ]
  },
  {
   "cell_type": "code",
   "execution_count": 4,
   "id": "4564711e",
   "metadata": {},
   "outputs": [],
   "source": [
    "def num(n):\n",
    "    num=1\n",
    "    for i in range(0, n):\n",
    "        for j in range(0, i+1):\n",
    "            print(num, end=\" \")\n",
    "            num = num + 1\n",
    "        print(\"\\r\")\n",
    "            \n",
    "        \n",
    "        "
   ]
  },
  {
   "cell_type": "code",
   "execution_count": 5,
   "id": "31551cba",
   "metadata": {},
   "outputs": [
    {
     "name": "stdout",
     "output_type": "stream",
     "text": [
      "1 \r\n",
      "2 3 \r\n",
      "4 5 6 \r\n",
      "7 8 9 10 \r\n",
      "11 12 13 14 15 \r\n"
     ]
    }
   ],
   "source": [
    "n=5\n",
    "num(n)"
   ]
  },
  {
   "cell_type": "markdown",
   "id": "b05fe43a",
   "metadata": {},
   "source": [
    "# Write a program to print the following pattern."
   ]
  },
  {
   "cell_type": "code",
   "execution_count": 6,
   "id": "d874ee55",
   "metadata": {},
   "outputs": [],
   "source": [
    "def alphabet(n):\n",
    "    num=65\n",
    "    for i in range(0,n):\n",
    "        for j in range(0, i+1):\n",
    "            ch = chr(num)\n",
    "            print(ch, end=\" \")\n",
    "        num = num+1\n",
    "        print(\"\\r\")"
   ]
  },
  {
   "cell_type": "code",
   "execution_count": 8,
   "id": "c898bacd",
   "metadata": {},
   "outputs": [
    {
     "name": "stdout",
     "output_type": "stream",
     "text": [
      "A \r\n",
      "B B \r\n",
      "C C C \r\n",
      "D D D D \r\n",
      "E E E E E \r\n"
     ]
    }
   ],
   "source": [
    "n=5\n",
    "alphabet(n)"
   ]
  },
  {
   "cell_type": "markdown",
   "id": "e2462874",
   "metadata": {},
   "source": [
    "# Write a program to print the following pattern."
   ]
  },
  {
   "cell_type": "code",
   "execution_count": 9,
   "id": "c0befea4",
   "metadata": {},
   "outputs": [],
   "source": [
    "def new(n):\n",
    "    num = 65\n",
    "    for i in range (0,n):\n",
    "        for j in range(0, i+1):\n",
    "            ch = chr(num)\n",
    "            print(ch, end=\" \")\n",
    "            num = num+1\n",
    "        print()\n",
    "        "
   ]
  },
  {
   "cell_type": "code",
   "execution_count": 10,
   "id": "a8004f44",
   "metadata": {},
   "outputs": [
    {
     "name": "stdout",
     "output_type": "stream",
     "text": [
      "A \n",
      "B C \n",
      "D E F \n",
      "G H I J \n",
      "K L M N O \n"
     ]
    }
   ],
   "source": [
    "n = 5\n",
    "new(n)"
   ]
  },
  {
   "cell_type": "code",
   "execution_count": null,
   "id": "de293bd8",
   "metadata": {},
   "outputs": [],
   "source": []
  }
 ],
 "metadata": {
  "kernelspec": {
   "display_name": "Python 3 (ipykernel)",
   "language": "python",
   "name": "python3"
  },
  "language_info": {
   "codemirror_mode": {
    "name": "ipython",
    "version": 3
   },
   "file_extension": ".py",
   "mimetype": "text/x-python",
   "name": "python",
   "nbconvert_exporter": "python",
   "pygments_lexer": "ipython3",
   "version": "3.10.9"
  }
 },
 "nbformat": 4,
 "nbformat_minor": 5
}
