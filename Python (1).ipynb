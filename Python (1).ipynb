{
 "cells": [
  {
   "cell_type": "code",
   "execution_count": 1,
   "id": "5e0d4a2d",
   "metadata": {},
   "outputs": [],
   "source": [
    "# Given a dictionary consisting of many roots and a sentence,\n",
    "#stem all the words in the sentence with the root forming it.\n",
    "\n",
    "roots = [\"cat\",\"bat\",\"rat\"]\n",
    "sentence = \"the cattle was rattled by the battery\"\n",
    "\n"
   ]
  },
  {
   "cell_type": "markdown",
   "id": "1ab5ba26",
   "metadata": {},
   "source": [
    "# Before you jump into writing code, you need to understand that we will perform two tasks: check if the word has a root and replace it. \n",
    "\n",
    "You will split the sentence into words.\n",
    "Run the outer loop over each word in the list and the inner loop over the list of root words.\n",
    "Check if the word starts with the root. The Python string provides us with the `startswith()` function to perform this task. \n",
    "If the word starts with the root, replace the word with the root using a list index. \n",
    "Join all of the words to create a sentence. "
   ]
  },
  {
   "cell_type": "code",
   "execution_count": 15,
   "id": "347515e8",
   "metadata": {},
   "outputs": [],
   "source": [
    "def replace_words(roots, sentence):\n",
    "    words = sentence.split(\" \")\n",
    "    \n",
    "    #looping over each word\n",
    "    for index, word in enumerate(words):\n",
    "        #looping over each root\n",
    "        for root in roots:\n",
    "            #checking if words start with the root\n",
    "            if word.startswith(root):\n",
    "                #replacing the word with its root\n",
    "                words[index] = root\n",
    "    return \" \".join(words)\n",
    "\n",
    "                \n",
    "    \n",
    "    "
   ]
  },
  {
   "cell_type": "code",
   "execution_count": 16,
   "id": "4d7dd825",
   "metadata": {},
   "outputs": [
    {
     "data": {
      "text/plain": [
       "'the cat was rat by the bat'"
      ]
     },
     "execution_count": 16,
     "metadata": {},
     "output_type": "execute_result"
    }
   ],
   "source": [
    "replace_words(roots,sentence)"
   ]
  },
  {
   "cell_type": "markdown",
   "id": "ab95f078",
   "metadata": {},
   "source": [
    "# Check if String is a Palindrome\n",
    "Given the string text, return True if it’s a palindrome, else False.\n",
    "\n",
    "After lowering all letters and removing all non-alphanumeric characters, the word should read the same forward and backward.\n",
    "\n",
    "Python provides easy ways to solve this challenge. You can either treat the string as iterable and reverse it using text[::-1] or use the built-in reversed(text) method.\n",
    "\n",
    "First, you will lower the text.\n",
    "Clean the text by removing non-alphanumeric characters using regex. \n",
    "Reverse the text using [::-1].\n",
    "Compare the cleaned text with the reversed text.  "
   ]
  },
  {
   "cell_type": "code",
   "execution_count": 17,
   "id": "d602eff8",
   "metadata": {},
   "outputs": [],
   "source": [
    "import re"
   ]
  },
  {
   "cell_type": "code",
   "execution_count": 18,
   "id": "a1f94274",
   "metadata": {},
   "outputs": [],
   "source": [
    "def is_palindrome(text):\n",
    "    \n",
    "    #lowering the string\n",
    "    text = text.lower()\n",
    "    \n",
    "    #cleaning the string\n",
    "    rx = re.compile(\"\\W+\")\n",
    "    text = rx.sub('',text).strip()\n",
    "    \n",
    "    #Reversing the string\n",
    "    rev = ''.join(reversed(text))\n",
    "    \n",
    "    return text == rev"
   ]
  },
  {
   "cell_type": "code",
   "execution_count": 21,
   "id": "12080290",
   "metadata": {},
   "outputs": [
    {
     "name": "stdout",
     "output_type": "stream",
     "text": [
      "Is Anna a palindrome? True\n",
      "Is **Radar**** a palindrome? True\n",
      "Is Abid a palindrome? False\n",
      "Is (Level) a palindrome? True\n",
      "Is Data a palindrome? False\n"
     ]
    }
   ],
   "source": [
    "# Test Cases\n",
    "\n",
    "List = ['Anna','**Radar****','Abid','(Level)','Data']\n",
    "\n",
    "for text in List:\n",
    "    print(f\"Is {text} a palindrome? {is_palindrome(text)}\")"
   ]
  },
  {
   "cell_type": "markdown",
   "id": "3102bc88",
   "metadata": {},
   "source": [
    "# 1) Write the output for the below Hello, Python commands."
   ]
  },
  {
   "cell_type": "code",
   "execution_count": 22,
   "id": "2d7287a8",
   "metadata": {},
   "outputs": [
    {
     "name": "stdout",
     "output_type": "stream",
     "text": [
      "Hello Python\n"
     ]
    }
   ],
   "source": [
    "print(\"Hello Python\")"
   ]
  },
  {
   "cell_type": "markdown",
   "id": "7e6b7ee5",
   "metadata": {},
   "source": [
    "# 2) What is the output of the Python add two numbers program?"
   ]
  },
  {
   "cell_type": "code",
   "execution_count": 24,
   "id": "bc87521e",
   "metadata": {},
   "outputs": [
    {
     "name": "stdout",
     "output_type": "stream",
     "text": [
      "11\n"
     ]
    }
   ],
   "source": [
    "a =5\n",
    "b= 6\n",
    " \n",
    "sum = a+b\n",
    "\n",
    "print(sum)"
   ]
  },
  {
   "cell_type": "markdown",
   "id": "0f37698e",
   "metadata": {},
   "source": [
    "# 3) What is the output of the below sum of the two numbers Python program?"
   ]
  },
  {
   "cell_type": "code",
   "execution_count": 26,
   "id": "956083cb",
   "metadata": {},
   "outputs": [
    {
     "name": "stdout",
     "output_type": "stream",
     "text": [
      "Enter first number: 3\n",
      "Enter second number: 4\n",
      "7\n"
     ]
    }
   ],
   "source": [
    "a = input('Enter first number: ')\n",
    "b = input('Enter second number: ')\n",
    "\n",
    "sum = int(a) + int(b)\n",
    "\n",
    "print(sum)"
   ]
  }
 ],
 "metadata": {
  "kernelspec": {
   "display_name": "Python 3 (ipykernel)",
   "language": "python",
   "name": "python3"
  },
  "language_info": {
   "codemirror_mode": {
    "name": "ipython",
    "version": 3
   },
   "file_extension": ".py",
   "mimetype": "text/x-python",
   "name": "python",
   "nbconvert_exporter": "python",
   "pygments_lexer": "ipython3",
   "version": "3.10.9"
  }
 },
 "nbformat": 4,
 "nbformat_minor": 5
}
