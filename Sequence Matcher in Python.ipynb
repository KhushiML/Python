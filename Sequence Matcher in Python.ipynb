{
 "cells": [
  {
   "cell_type": "code",
   "execution_count": 2,
   "id": "a9eb168e",
   "metadata": {},
   "outputs": [
    {
     "name": "stdout",
     "output_type": "stream",
     "text": [
      "Both are 90.56603773584906 % similar\n"
     ]
    }
   ],
   "source": [
    "from difflib import SequenceMatcher\n",
    "text1 = \"My name is Khushboo Alvi\"\n",
    "text2 = \"hii, My name is Khushboo Alvi\"\n",
    "sequenceScore = SequenceMatcher(None, text1, text2).ratio()\n",
    "print(f\"Both are {sequenceScore * 100} % similar\")"
   ]
  },
  {
   "cell_type": "code",
   "execution_count": 4,
   "id": "3d662ef3",
   "metadata": {},
   "outputs": [
    {
     "name": "stdout",
     "output_type": "stream",
     "text": [
      "Both are 14.285714285714285 % similar\n"
     ]
    }
   ],
   "source": [
    "text3 = \"yyyyyy\"\n",
    "text4 = \"tyujokbk\"\n",
    "sequenceScore = SequenceMatcher(None, text3, text4).ratio()\n",
    "print(f\"Both are {sequenceScore * 100} % similar\")"
   ]
  },
  {
   "cell_type": "code",
   "execution_count": null,
   "id": "05da9085",
   "metadata": {},
   "outputs": [],
   "source": []
  }
 ],
 "metadata": {
  "kernelspec": {
   "display_name": "Python 3 (ipykernel)",
   "language": "python",
   "name": "python3"
  },
  "language_info": {
   "codemirror_mode": {
    "name": "ipython",
    "version": 3
   },
   "file_extension": ".py",
   "mimetype": "text/x-python",
   "name": "python",
   "nbconvert_exporter": "python",
   "pygments_lexer": "ipython3",
   "version": "3.10.9"
  }
 },
 "nbformat": 4,
 "nbformat_minor": 5
}
