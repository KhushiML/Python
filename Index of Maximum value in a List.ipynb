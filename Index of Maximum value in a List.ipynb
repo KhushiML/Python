{
 "cells": [
  {
   "cell_type": "code",
   "execution_count": 9,
   "id": "b708f57f",
   "metadata": {},
   "outputs": [],
   "source": [
    "def maximum(x):\n",
    "    maximum_index = 0\n",
    "    current_index = 1\n",
    "    while current_index < len(x):\n",
    "        if x[current_index] > x[maximum_index]:\n",
    "            maximum_index = current_index\n",
    "        current_index = current_index + 1\n",
    "    return maximum_index\n",
    "\n",
    "    \n",
    "        "
   ]
  },
  {
   "cell_type": "code",
   "execution_count": 10,
   "id": "7130acbd",
   "metadata": {},
   "outputs": [
    {
     "name": "stdout",
     "output_type": "stream",
     "text": [
      "1\n"
     ]
    }
   ],
   "source": [
    "a = [23, 76, 45, 20, 70, 65, 15, 54]\n",
    "print(maximum(a))"
   ]
  },
  {
   "cell_type": "code",
   "execution_count": null,
   "id": "09017454",
   "metadata": {},
   "outputs": [],
   "source": []
  }
 ],
 "metadata": {
  "kernelspec": {
   "display_name": "Python 3 (ipykernel)",
   "language": "python",
   "name": "python3"
  },
  "language_info": {
   "codemirror_mode": {
    "name": "ipython",
    "version": 3
   },
   "file_extension": ".py",
   "mimetype": "text/x-python",
   "name": "python",
   "nbconvert_exporter": "python",
   "pygments_lexer": "ipython3",
   "version": "3.10.9"
  }
 },
 "nbformat": 4,
 "nbformat_minor": 5
}
