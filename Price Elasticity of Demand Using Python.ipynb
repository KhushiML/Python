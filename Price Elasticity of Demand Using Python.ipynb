{
 "cells": [
  {
   "cell_type": "code",
   "execution_count": 1,
   "id": "624aeda1",
   "metadata": {},
   "outputs": [],
   "source": [
    "import pandas as pd"
   ]
  },
  {
   "cell_type": "code",
   "execution_count": 2,
   "id": "ce6938f6",
   "metadata": {},
   "outputs": [],
   "source": [
    "data = pd.DataFrame({\"Demand\": [20, 30, 31, 33, 30, 33, 35], \n",
    "                     \"Price\": [2000, 1800, 1850, 1700, 1800, 1700, 1600]})"
   ]
  },
  {
   "cell_type": "code",
   "execution_count": 3,
   "id": "ceb8c1c0",
   "metadata": {},
   "outputs": [
    {
     "name": "stdout",
     "output_type": "stream",
     "text": [
      "   Demand  Price\n",
      "0      20   2000\n",
      "1      30   1800\n",
      "2      31   1850\n",
      "3      33   1700\n",
      "4      30   1800\n",
      "5      33   1700\n",
      "6      35   1600\n"
     ]
    }
   ],
   "source": [
    "print(data)"
   ]
  },
  {
   "cell_type": "code",
   "execution_count": 4,
   "id": "287b5a3c",
   "metadata": {},
   "outputs": [],
   "source": [
    "data[\"% Change in demand\"] = data[\"Demand\"].pct_change()"
   ]
  },
  {
   "cell_type": "code",
   "execution_count": 5,
   "id": "499858df",
   "metadata": {},
   "outputs": [],
   "source": [
    "data[\"% Change in Price\"] = data[\"Price\"].pct_change()"
   ]
  },
  {
   "cell_type": "code",
   "execution_count": 6,
   "id": "60319f89",
   "metadata": {},
   "outputs": [
    {
     "name": "stdout",
     "output_type": "stream",
     "text": [
      "   Demand  Price  % Change in demand  % Change in Price\n",
      "0      20   2000                 NaN                NaN\n",
      "1      30   1800            0.500000          -0.100000\n",
      "2      31   1850            0.033333           0.027778\n",
      "3      33   1700            0.064516          -0.081081\n",
      "4      30   1800           -0.090909           0.058824\n",
      "5      33   1700            0.100000          -0.055556\n",
      "6      35   1600            0.060606          -0.058824\n"
     ]
    }
   ],
   "source": [
    "print(data)"
   ]
  },
  {
   "cell_type": "code",
   "execution_count": 7,
   "id": "d432a1e4",
   "metadata": {},
   "outputs": [],
   "source": [
    "data[\"Price Elasticity\"] = data[\"% Change in demand\"]/data[\"% Change in Price\"]"
   ]
  },
  {
   "cell_type": "code",
   "execution_count": 8,
   "id": "a67cb500",
   "metadata": {},
   "outputs": [
    {
     "name": "stdout",
     "output_type": "stream",
     "text": [
      "   Demand  Price  % Change in demand  % Change in Price  Price Elasticity\n",
      "0      20   2000                 NaN                NaN               NaN\n",
      "1      30   1800            0.500000          -0.100000         -5.000000\n",
      "2      31   1850            0.033333           0.027778          1.200000\n",
      "3      33   1700            0.064516          -0.081081         -0.795699\n",
      "4      30   1800           -0.090909           0.058824         -1.545455\n",
      "5      33   1700            0.100000          -0.055556         -1.800000\n",
      "6      35   1600            0.060606          -0.058824         -1.030303\n"
     ]
    }
   ],
   "source": [
    "print(data)"
   ]
  },
  {
   "cell_type": "code",
   "execution_count": 9,
   "id": "fcc6aac6",
   "metadata": {},
   "outputs": [
    {
     "data": {
      "text/plain": [
       "Demand                0\n",
       "Price                 0\n",
       "% Change in demand    1\n",
       "% Change in Price     1\n",
       "Price Elasticity      1\n",
       "dtype: int64"
      ]
     },
     "execution_count": 9,
     "metadata": {},
     "output_type": "execute_result"
    }
   ],
   "source": [
    "data.isnull().sum()"
   ]
  },
  {
   "cell_type": "code",
   "execution_count": 12,
   "id": "f34d183f",
   "metadata": {},
   "outputs": [],
   "source": [
    "data = data.dropna()"
   ]
  },
  {
   "cell_type": "code",
   "execution_count": 13,
   "id": "5cf86367",
   "metadata": {},
   "outputs": [
    {
     "data": {
      "text/plain": [
       "Demand                0\n",
       "Price                 0\n",
       "% Change in demand    0\n",
       "% Change in Price     0\n",
       "Price Elasticity      0\n",
       "dtype: int64"
      ]
     },
     "execution_count": 13,
     "metadata": {},
     "output_type": "execute_result"
    }
   ],
   "source": [
    "data.isnull().sum()"
   ]
  },
  {
   "cell_type": "code",
   "execution_count": 14,
   "id": "b9ac27db",
   "metadata": {},
   "outputs": [
    {
     "name": "stdout",
     "output_type": "stream",
     "text": [
      "   Demand  Price  % Change in demand  % Change in Price  Price Elasticity\n",
      "1      30   1800            0.500000          -0.100000         -5.000000\n",
      "2      31   1850            0.033333           0.027778          1.200000\n",
      "3      33   1700            0.064516          -0.081081         -0.795699\n",
      "4      30   1800           -0.090909           0.058824         -1.545455\n",
      "5      33   1700            0.100000          -0.055556         -1.800000\n",
      "6      35   1600            0.060606          -0.058824         -1.030303\n"
     ]
    }
   ],
   "source": [
    "print(data)"
   ]
  },
  {
   "cell_type": "code",
   "execution_count": null,
   "id": "3caad5ff",
   "metadata": {},
   "outputs": [],
   "source": []
  }
 ],
 "metadata": {
  "kernelspec": {
   "display_name": "Python 3 (ipykernel)",
   "language": "python",
   "name": "python3"
  },
  "language_info": {
   "codemirror_mode": {
    "name": "ipython",
    "version": 3
   },
   "file_extension": ".py",
   "mimetype": "text/x-python",
   "name": "python",
   "nbconvert_exporter": "python",
   "pygments_lexer": "ipython3",
   "version": "3.10.9"
  }
 },
 "nbformat": 4,
 "nbformat_minor": 5
}
