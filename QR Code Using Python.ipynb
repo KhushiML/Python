{
 "cells": [
  {
   "cell_type": "code",
   "execution_count": 2,
   "id": "5bdc8c04",
   "metadata": {},
   "outputs": [],
   "source": [
    "import pyqrcode\n",
    "import png"
   ]
  },
  {
   "cell_type": "code",
   "execution_count": 3,
   "id": "4687f481",
   "metadata": {},
   "outputs": [],
   "source": [
    "link = \"https://github.com/KhushiML\""
   ]
  },
  {
   "cell_type": "code",
   "execution_count": 4,
   "id": "a9e92b4c",
   "metadata": {},
   "outputs": [],
   "source": [
    "qrcode = pyqrcode.create(link)"
   ]
  },
  {
   "cell_type": "code",
   "execution_count": 5,
   "id": "cfd0ead5",
   "metadata": {},
   "outputs": [],
   "source": [
    "qrcode.png(\"Khushi_guthub.png\", scale = 5)"
   ]
  },
  {
   "cell_type": "code",
   "execution_count": null,
   "id": "c3b67ade",
   "metadata": {},
   "outputs": [],
   "source": []
  }
 ],
 "metadata": {
  "kernelspec": {
   "display_name": "Python 3 (ipykernel)",
   "language": "python",
   "name": "python3"
  },
  "language_info": {
   "codemirror_mode": {
    "name": "ipython",
    "version": 3
   },
   "file_extension": ".py",
   "mimetype": "text/x-python",
   "name": "python",
   "nbconvert_exporter": "python",
   "pygments_lexer": "ipython3",
   "version": "3.10.9"
  }
 },
 "nbformat": 4,
 "nbformat_minor": 5
}
