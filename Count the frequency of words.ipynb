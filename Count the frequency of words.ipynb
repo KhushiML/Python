{
 "cells": [
  {
   "cell_type": "code",
   "execution_count": null,
   "id": "b939a847",
   "metadata": {},
   "outputs": [],
   "source": [
    "words = []\n",
    "\n",
    "with open(\"jjj.txt\", r) as f:\n",
    "    for line in f:\n",
    "        words.extend(line.split())\n",
    "        \n",
    "\n",
    "from collections import counter\n",
    "counts = counter(words)\n",
    "top5 = count.most_common(5)\n",
    "print(top5)\n"
   ]
  }
 ],
 "metadata": {
  "kernelspec": {
   "display_name": "Python 3 (ipykernel)",
   "language": "python",
   "name": "python3"
  },
  "language_info": {
   "codemirror_mode": {
    "name": "ipython",
    "version": 3
   },
   "file_extension": ".py",
   "mimetype": "text/x-python",
   "name": "python",
   "nbconvert_exporter": "python",
   "pygments_lexer": "ipython3",
   "version": "3.10.9"
  }
 },
 "nbformat": 4,
 "nbformat_minor": 5
}
