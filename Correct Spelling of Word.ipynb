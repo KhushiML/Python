{
 "cells": [
  {
   "cell_type": "code",
   "execution_count": 1,
   "id": "6194b64b",
   "metadata": {},
   "outputs": [],
   "source": [
    "from spellchecker import SpellChecker"
   ]
  },
  {
   "cell_type": "code",
   "execution_count": 2,
   "id": "700009ea",
   "metadata": {},
   "outputs": [],
   "source": [
    "corrector = SpellChecker()"
   ]
  },
  {
   "cell_type": "code",
   "execution_count": 4,
   "id": "12dad75e",
   "metadata": {},
   "outputs": [
    {
     "name": "stdout",
     "output_type": "stream",
     "text": [
      "Enter a word: intelignt\n",
      "Correct Spelling is  intelligent\n"
     ]
    }
   ],
   "source": [
    "word = input(\"Enter a word: \")\n",
    "if word in corrector:\n",
    "    print(\"Correct\")\n",
    "else:\n",
    "    correct_word = corrector.correction(word)\n",
    "    print(\"Correct Spelling is \", correct_word)"
   ]
  },
  {
   "cell_type": "code",
   "execution_count": null,
   "id": "ae9c26ff",
   "metadata": {},
   "outputs": [],
   "source": []
  }
 ],
 "metadata": {
  "kernelspec": {
   "display_name": "Python 3 (ipykernel)",
   "language": "python",
   "name": "python3"
  },
  "language_info": {
   "codemirror_mode": {
    "name": "ipython",
    "version": 3
   },
   "file_extension": ".py",
   "mimetype": "text/x-python",
   "name": "python",
   "nbconvert_exporter": "python",
   "pygments_lexer": "ipython3",
   "version": "3.10.9"
  }
 },
 "nbformat": 4,
 "nbformat_minor": 5
}
