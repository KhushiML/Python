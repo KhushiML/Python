{
 "cells": [
  {
   "cell_type": "code",
   "execution_count": 1,
   "id": "8acca9f2",
   "metadata": {},
   "outputs": [],
   "source": [
    "def findMissingNumber(n):\n",
    "    numbers = set(n)\n",
    "    length = len(n)\n",
    "    output = []\n",
    "    for i in range(1, n[-1]):\n",
    "        if i not in numbers:\n",
    "            output.append(i)\n",
    "    return output\n"
   ]
  },
  {
   "cell_type": "code",
   "execution_count": 2,
   "id": "734635a7",
   "metadata": {},
   "outputs": [
    {
     "name": "stdout",
     "output_type": "stream",
     "text": [
      "[4, 12, 15]\n"
     ]
    }
   ],
   "source": [
    "List = [1, 2, 3, 5, 6, 7, 8, 9, 10, 11, 13, 14, 16]\n",
    "print(findMissingNumber(List))"
   ]
  },
  {
   "cell_type": "code",
   "execution_count": 5,
   "id": "7d16411e",
   "metadata": {},
   "outputs": [
    {
     "data": {
      "text/plain": [
       "16"
      ]
     },
     "execution_count": 5,
     "metadata": {},
     "output_type": "execute_result"
    }
   ],
   "source": [
    "List[-1]"
   ]
  },
  {
   "cell_type": "code",
   "execution_count": null,
   "id": "7b64d845",
   "metadata": {},
   "outputs": [],
   "source": []
  }
 ],
 "metadata": {
  "kernelspec": {
   "display_name": "Python 3 (ipykernel)",
   "language": "python",
   "name": "python3"
  },
  "language_info": {
   "codemirror_mode": {
    "name": "ipython",
    "version": 3
   },
   "file_extension": ".py",
   "mimetype": "text/x-python",
   "name": "python",
   "nbconvert_exporter": "python",
   "pygments_lexer": "ipython3",
   "version": "3.10.9"
  }
 },
 "nbformat": 4,
 "nbformat_minor": 5
}
