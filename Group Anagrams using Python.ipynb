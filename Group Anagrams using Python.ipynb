{
 "cells": [
  {
   "cell_type": "code",
   "execution_count": 2,
   "id": "f2491cfe",
   "metadata": {},
   "outputs": [],
   "source": [
    "from collections import defaultdict\n"
   ]
  },
  {
   "cell_type": "code",
   "execution_count": 3,
   "id": "13d7d983",
   "metadata": {},
   "outputs": [],
   "source": [
    "def group_anagrams(a):\n",
    "    dfdict = defaultdict(list)\n",
    "    for i in a:\n",
    "        sorted_i = \" \".join(sorted(i))\n",
    "        dfdict[sorted_i].append(i)\n",
    "    return dfdict.values()"
   ]
  },
  {
   "cell_type": "code",
   "execution_count": 5,
   "id": "a18bf654",
   "metadata": {},
   "outputs": [
    {
     "name": "stdout",
     "output_type": "stream",
     "text": [
      "dict_values([['eat', 'ate', 'tea'], ['bat'], ['arc', 'car']])\n"
     ]
    }
   ],
   "source": [
    "words = [\"eat\",\"ate\",\"tea\",\"bat\",\"arc\",\"car\"]\n",
    "print(group_anagrams(words))"
   ]
  },
  {
   "cell_type": "code",
   "execution_count": null,
   "id": "0c801c4f",
   "metadata": {},
   "outputs": [],
   "source": []
  }
 ],
 "metadata": {
  "kernelspec": {
   "display_name": "Python 3 (ipykernel)",
   "language": "python",
   "name": "python3"
  },
  "language_info": {
   "codemirror_mode": {
    "name": "ipython",
    "version": 3
   },
   "file_extension": ".py",
   "mimetype": "text/x-python",
   "name": "python",
   "nbconvert_exporter": "python",
   "pygments_lexer": "ipython3",
   "version": "3.10.9"
  }
 },
 "nbformat": 4,
 "nbformat_minor": 5
}
