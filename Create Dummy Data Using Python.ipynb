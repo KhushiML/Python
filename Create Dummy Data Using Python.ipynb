{
 "cells": [
  {
   "cell_type": "code",
   "execution_count": 1,
   "id": "3bb22e5f",
   "metadata": {},
   "outputs": [
    {
     "name": "stdout",
     "output_type": "stream",
     "text": [
      "Michael Ramirez\n"
     ]
    }
   ],
   "source": [
    "from faker import Faker\n",
    "fake = Faker()\n",
    "print(fake.name())\n"
   ]
  },
  {
   "cell_type": "code",
   "execution_count": 2,
   "id": "8529ee85",
   "metadata": {},
   "outputs": [
    {
     "name": "stdout",
     "output_type": "stream",
     "text": [
      "04886 Caroline Branch Apt. 896\n",
      "Matthewstad, MI 16129\n"
     ]
    }
   ],
   "source": [
    "print(fake.address())"
   ]
  },
  {
   "cell_type": "code",
   "execution_count": 3,
   "id": "3c08ee47",
   "metadata": {},
   "outputs": [
    {
     "name": "stdout",
     "output_type": "stream",
     "text": [
      "My strategy particularly test. Management get behind two hit visit. Water effect style administration way dog manage network.\n"
     ]
    }
   ],
   "source": [
    "print(fake.text())"
   ]
  },
  {
   "cell_type": "code",
   "execution_count": 4,
   "id": "f124cf4e",
   "metadata": {},
   "outputs": [],
   "source": [
    "import pandas as pd"
   ]
  },
  {
   "cell_type": "code",
   "execution_count": 5,
   "id": "3001fb7c",
   "metadata": {},
   "outputs": [
    {
     "data": {
      "text/html": [
       "<div>\n",
       "<style scoped>\n",
       "    .dataframe tbody tr th:only-of-type {\n",
       "        vertical-align: middle;\n",
       "    }\n",
       "\n",
       "    .dataframe tbody tr th {\n",
       "        vertical-align: top;\n",
       "    }\n",
       "\n",
       "    .dataframe thead th {\n",
       "        text-align: right;\n",
       "    }\n",
       "</style>\n",
       "<table border=\"1\" class=\"dataframe\">\n",
       "  <thead>\n",
       "    <tr style=\"text-align: right;\">\n",
       "      <th></th>\n",
       "      <th>job</th>\n",
       "      <th>company</th>\n",
       "      <th>ssn</th>\n",
       "      <th>residence</th>\n",
       "      <th>current_location</th>\n",
       "      <th>blood_group</th>\n",
       "      <th>website</th>\n",
       "      <th>username</th>\n",
       "      <th>name</th>\n",
       "      <th>sex</th>\n",
       "      <th>address</th>\n",
       "      <th>mail</th>\n",
       "      <th>birthdate</th>\n",
       "    </tr>\n",
       "  </thead>\n",
       "  <tbody>\n",
       "    <tr>\n",
       "      <th>0</th>\n",
       "      <td>Hotel manager</td>\n",
       "      <td>Diaz, Ashley and Salinas</td>\n",
       "      <td>569-70-6429</td>\n",
       "      <td>9226 Lambert Lakes Apt. 380\\nSouth Annette, NJ...</td>\n",
       "      <td>(-33.0807335, -70.380492)</td>\n",
       "      <td>A-</td>\n",
       "      <td>[http://www.guerrero-matthews.net/, http://dur...</td>\n",
       "      <td>albert49</td>\n",
       "      <td>Marissa George</td>\n",
       "      <td>F</td>\n",
       "      <td>874 Choi Plaza Suite 945\\nNew Victoria, NE 50881</td>\n",
       "      <td>matthew19@hotmail.com</td>\n",
       "      <td>1995-12-13</td>\n",
       "    </tr>\n",
       "    <tr>\n",
       "      <th>1</th>\n",
       "      <td>Special educational needs teacher</td>\n",
       "      <td>Nunez-Collins</td>\n",
       "      <td>282-83-4010</td>\n",
       "      <td>45190 Kara Valleys Suite 204\\nAguilarborough, ...</td>\n",
       "      <td>(-29.164229, -82.270172)</td>\n",
       "      <td>A-</td>\n",
       "      <td>[http://garner.biz/]</td>\n",
       "      <td>njones</td>\n",
       "      <td>Melvin Bell</td>\n",
       "      <td>M</td>\n",
       "      <td>4095 Stephens Extension\\nEast Michaelton, DE 3...</td>\n",
       "      <td>ballardmolly@yahoo.com</td>\n",
       "      <td>1994-04-16</td>\n",
       "    </tr>\n",
       "    <tr>\n",
       "      <th>2</th>\n",
       "      <td>Magazine journalist</td>\n",
       "      <td>Williams, Guerrero and Brown</td>\n",
       "      <td>091-20-9167</td>\n",
       "      <td>53771 Nguyen Mission\\nSouth Suzanneshire, HI 0...</td>\n",
       "      <td>(59.664118, 97.865896)</td>\n",
       "      <td>B+</td>\n",
       "      <td>[https://www.baker.org/, http://page-leon.com/...</td>\n",
       "      <td>vanessaallen</td>\n",
       "      <td>Ashley Carrillo</td>\n",
       "      <td>F</td>\n",
       "      <td>70838 Joseph Loaf\\nGarciabury, WY 19769</td>\n",
       "      <td>frostabigail@hotmail.com</td>\n",
       "      <td>1916-04-26</td>\n",
       "    </tr>\n",
       "    <tr>\n",
       "      <th>3</th>\n",
       "      <td>Charity officer</td>\n",
       "      <td>Martin, Cabrera and Myers</td>\n",
       "      <td>747-22-3448</td>\n",
       "      <td>854 Cassandra Drives Suite 866\\nWest Joseph, W...</td>\n",
       "      <td>(-54.0457425, -11.046466)</td>\n",
       "      <td>O-</td>\n",
       "      <td>[https://carr.net/, http://wright-green.com/, ...</td>\n",
       "      <td>lynchjonathan</td>\n",
       "      <td>Patrick Rich</td>\n",
       "      <td>M</td>\n",
       "      <td>373 Benjamin Forest Apt. 535\\nRobertfort, TN 6...</td>\n",
       "      <td>arobbins@yahoo.com</td>\n",
       "      <td>1975-12-14</td>\n",
       "    </tr>\n",
       "    <tr>\n",
       "      <th>4</th>\n",
       "      <td>Therapist, drama</td>\n",
       "      <td>Conley Ltd</td>\n",
       "      <td>290-18-3030</td>\n",
       "      <td>6040 Morrison Hollow\\nSouth Carlaland, HI 36165</td>\n",
       "      <td>(63.5047375, 47.860665)</td>\n",
       "      <td>AB+</td>\n",
       "      <td>[http://vasquez.biz/, http://www.hill.com/]</td>\n",
       "      <td>humphreydouglas</td>\n",
       "      <td>Pamela Horton</td>\n",
       "      <td>F</td>\n",
       "      <td>USNS Johnson\\nFPO AA 29598</td>\n",
       "      <td>elliottjames@yahoo.com</td>\n",
       "      <td>1957-09-23</td>\n",
       "    </tr>\n",
       "  </tbody>\n",
       "</table>\n",
       "</div>"
      ],
      "text/plain": [
       "                                 job                       company  \\\n",
       "0                      Hotel manager      Diaz, Ashley and Salinas   \n",
       "1  Special educational needs teacher                 Nunez-Collins   \n",
       "2                Magazine journalist  Williams, Guerrero and Brown   \n",
       "3                    Charity officer     Martin, Cabrera and Myers   \n",
       "4                   Therapist, drama                    Conley Ltd   \n",
       "\n",
       "           ssn                                          residence  \\\n",
       "0  569-70-6429  9226 Lambert Lakes Apt. 380\\nSouth Annette, NJ...   \n",
       "1  282-83-4010  45190 Kara Valleys Suite 204\\nAguilarborough, ...   \n",
       "2  091-20-9167  53771 Nguyen Mission\\nSouth Suzanneshire, HI 0...   \n",
       "3  747-22-3448  854 Cassandra Drives Suite 866\\nWest Joseph, W...   \n",
       "4  290-18-3030    6040 Morrison Hollow\\nSouth Carlaland, HI 36165   \n",
       "\n",
       "            current_location blood_group  \\\n",
       "0  (-33.0807335, -70.380492)          A-   \n",
       "1   (-29.164229, -82.270172)          A-   \n",
       "2     (59.664118, 97.865896)          B+   \n",
       "3  (-54.0457425, -11.046466)          O-   \n",
       "4    (63.5047375, 47.860665)         AB+   \n",
       "\n",
       "                                             website         username  \\\n",
       "0  [http://www.guerrero-matthews.net/, http://dur...         albert49   \n",
       "1                               [http://garner.biz/]           njones   \n",
       "2  [https://www.baker.org/, http://page-leon.com/...     vanessaallen   \n",
       "3  [https://carr.net/, http://wright-green.com/, ...    lynchjonathan   \n",
       "4        [http://vasquez.biz/, http://www.hill.com/]  humphreydouglas   \n",
       "\n",
       "              name sex                                            address  \\\n",
       "0   Marissa George   F   874 Choi Plaza Suite 945\\nNew Victoria, NE 50881   \n",
       "1      Melvin Bell   M  4095 Stephens Extension\\nEast Michaelton, DE 3...   \n",
       "2  Ashley Carrillo   F            70838 Joseph Loaf\\nGarciabury, WY 19769   \n",
       "3     Patrick Rich   M  373 Benjamin Forest Apt. 535\\nRobertfort, TN 6...   \n",
       "4    Pamela Horton   F                         USNS Johnson\\nFPO AA 29598   \n",
       "\n",
       "                       mail   birthdate  \n",
       "0     matthew19@hotmail.com  1995-12-13  \n",
       "1    ballardmolly@yahoo.com  1994-04-16  \n",
       "2  frostabigail@hotmail.com  1916-04-26  \n",
       "3        arobbins@yahoo.com  1975-12-14  \n",
       "4    elliottjames@yahoo.com  1957-09-23  "
      ]
     },
     "execution_count": 5,
     "metadata": {},
     "output_type": "execute_result"
    }
   ],
   "source": [
    "data = [fake.profile() for i in range(50)]\n",
    "data = pd.DataFrame(data)\n",
    "data.head()"
   ]
  },
  {
   "cell_type": "code",
   "execution_count": null,
   "id": "c442a8c0",
   "metadata": {},
   "outputs": [],
   "source": []
  }
 ],
 "metadata": {
  "kernelspec": {
   "display_name": "Python 3 (ipykernel)",
   "language": "python",
   "name": "python3"
  },
  "language_info": {
   "codemirror_mode": {
    "name": "ipython",
    "version": 3
   },
   "file_extension": ".py",
   "mimetype": "text/x-python",
   "name": "python",
   "nbconvert_exporter": "python",
   "pygments_lexer": "ipython3",
   "version": "3.10.9"
  }
 },
 "nbformat": 4,
 "nbformat_minor": 5
}
